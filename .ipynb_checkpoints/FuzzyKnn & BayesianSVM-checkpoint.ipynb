{
 "cells": [
  {
   "cell_type": "code",
   "execution_count": 37,
   "id": "headed-heavy",
   "metadata": {},
   "outputs": [],
   "source": [
    "import numpy as np\n",
    "import pickle\n",
    "import cv2\n",
    "import os\n",
    "from os import listdir\n",
    "from sklearn.preprocessing import LabelEncoder\n",
    "from sklearn.model_selection import train_test_split\n",
    "import matplotlib.pyplot as plt\n",
    "from sklearn.metrics import classification_report, accuracy_score\n",
    "import pandas as pd\n",
    "import numpy as np\n",
    "import seaborn as sns\n",
    "import matplotlib.pyplot as plt"
   ]
  },
  {
   "cell_type": "code",
   "execution_count": 2,
   "id": "brief-colony",
   "metadata": {},
   "outputs": [],
   "source": [
    "datasetDirectory = './plantvillage_dataset/segmented/'\n",
    "width = 256\n",
    "height = 256\n",
    "depth = 3\n",
    "BATCH_SIZE = 32\n",
    "IMG_SIZE = (255, 255)"
   ]
  },
  {
   "cell_type": "code",
   "execution_count": 3,
   "id": "deluxe-advice",
   "metadata": {},
   "outputs": [],
   "source": [
    "def convert_image_to_array(image_dir):\n",
    "    try:\n",
    "        image = cv2.imread(image_dir)\n",
    "        if image is not None:\n",
    "            image = cv2.resize(image, IMG_SIZE)\n",
    "            return img_to_array(image)\n",
    "        else:\n",
    "            return np.array([])\n",
    "    except Exception as e:\n",
    "        print(f\"Error : {e}\")\n",
    "        return None"
   ]
  },
  {
   "cell_type": "code",
   "execution_count": 7,
   "id": "handled-manitoba",
   "metadata": {},
   "outputs": [
    {
     "name": "stdout",
     "output_type": "stream",
     "text": [
      "Processing Apple___Cedar_apple_rust ...\n",
      "Processing Apple___Apple_scab ...\n",
      "Processing Apple___Black_rot ...\n",
      "Processing Apple___healthy ...\n"
     ]
    }
   ],
   "source": [
    "image_list, label_list = [], []\n",
    "for directory in listdir(datasetDirectory):\n",
    "    if not 'Apple' in directory:\n",
    "        continue\n",
    "    print(f\"Processing {directory} ...\")\n",
    "    plantDiseaseImageList = listdir(f\"{datasetDirectory}/{directory}/\")\n",
    "    for plantImage in plantDiseaseImageList[:300]:\n",
    "        if plantImage == \".DS_Store\":\n",
    "            continue\n",
    "        imagePath = f\"{datasetDirectory}/{directory}/{plantImage}\"\n",
    "        if imagePath.endswith(\".jpg\") == True or imagePath.endswith(\n",
    "                \".JPG\") == True:\n",
    "            img = cv2.imread(imagePath, 0)\n",
    "            img = cv2.resize(img, IMG_SIZE)\n",
    "            image_list.append(np.asarray(img))\n",
    "            label_list.append(directory)"
   ]
  },
  {
   "cell_type": "code",
   "execution_count": 8,
   "id": "formal-coordinator",
   "metadata": {},
   "outputs": [],
   "source": [
    "from PIL import Image, ImageEnhance\n",
    "\n",
    "new = Image.new(\"RGBA\", (2000,1000))\n",
    "\n",
    "img = Image.open(\"./plantvillage_dataset/segmented/Apple___Apple_scab/00075aa8-d81a-4184-8541-b692b78d398a___FREC_Scab 3335_final_masked.jpg\")\n",
    "img = img.resize((500,500))\n",
    "new.paste(img, (0,0))\n",
    "\n",
    "img = Image.open(\"./plantvillage_dataset/segmented/Apple___Black_rot/0090d05d-d797-4c99-abd4-3b9cb323a5fd___JR_FrgE.S 8727_final_masked.jpg\")\n",
    "img = img.resize((500,500))\n",
    "new.paste(img, (1000,0))\n",
    "\n",
    "img = Image.open(\"./plantvillage_dataset/segmented/Apple___Cedar_apple_rust/025b2b9a-0ec4-4132-96ac-7f2832d0db4a___FREC_C.Rust 3655_final_masked.jpg\")\n",
    "img = img.resize((500,500))\n",
    "new.paste(img, (500,500))\n",
    "\n",
    "img = Image.open(\"./plantvillage_dataset/segmented/Apple___healthy/00907d8b-6ae6-4306-bfd7-d54471981a86___RS_HL 5709_final_masked.jpg\")\n",
    "img = img.resize((500,500))\n",
    "new.paste(img, (1500,500))\n",
    "\n",
    "new.show()"
   ]
  },
  {
   "cell_type": "code",
   "execution_count": 42,
   "id": "middle-efficiency",
   "metadata": {},
   "outputs": [
    {
     "data": {
      "image/png": "[encoded data removed]",
      "text/plain": [
       "<Figure size 432x288 with 1 Axes>"
      ]
     },
     "metadata": {
      "needs_background": "light"
     },
     "output_type": "display_data"
    }
   ],
   "source": [
    "sns.countplot(x=label_list)\n",
    "plt.xticks(rotation=20)\n",
    "plt.show()"
   ]
  },
  {
   "cell_type": "code",
   "execution_count": 9,
   "id": "determined-reasoning",
   "metadata": {
    "scrolled": true
   },
   "outputs": [
    {
     "name": "stdout",
     "output_type": "stream",
     "text": [
      "('Total number of images processing :', 1175)\n"
     ]
    }
   ],
   "source": [
    "print((\"Total number of images processing :\", len(image_list)))"
   ]
  },
  {
   "cell_type": "code",
   "execution_count": 10,
   "id": "english-mainstream",
   "metadata": {},
   "outputs": [],
   "source": [
    "# normalising images\n",
    "image_list = np.array(image_list, dtype=np.float16) / 225.0"
   ]
  },
  {
   "cell_type": "code",
   "execution_count": 11,
   "id": "multiple-mauritius",
   "metadata": {},
   "outputs": [],
   "source": [
    "# encoding labels\n",
    "encoder = LabelEncoder()\n",
    "image_labels = encoder.fit_transform(label_list)\n",
    "pickle.dump(encoder, open('label_transform.pkl', 'wb'))\n",
    "n_classes = len(encoder.classes_)"
   ]
  },
  {
   "cell_type": "code",
   "execution_count": 12,
   "id": "alive-program",
   "metadata": {},
   "outputs": [],
   "source": [
    "# segregating images and labels into train and test\n",
    "x_train, x_test, y_train, y_test = train_test_split(image_list,\n",
    "                                                    image_labels,\n",
    "                                                    test_size=0.2)\n",
    "x_train, x_val, y_train, y_val = train_test_split(x_train,\n",
    "                                                  y_train,\n",
    "                                                  test_size=0.2,\n",
    "                                                  random_state=1)"
   ]
  },
  {
   "cell_type": "code",
   "execution_count": 13,
   "id": "operational-tutorial",
   "metadata": {},
   "outputs": [],
   "source": [
    "x_train = x_train.reshape(752, 65025)\n",
    "x_test = x_test.reshape(235, 65025)"
   ]
  },
  {
   "cell_type": "markdown",
   "id": "corrected-coupon",
   "metadata": {},
   "source": [
    "### Fuzzy KNN"
   ]
  },
  {
   "cell_type": "code",
   "execution_count": 15,
   "id": "entertaining-village",
   "metadata": {},
   "outputs": [],
   "source": [
    "def euclediandistance(data1, data2, length):\n",
    "    distance=0\n",
    "    for x in range(length):\n",
    "        distance += np.square(data1[x]-data2[x])\n",
    "    return np.sqrt(distance)"
   ]
  },
  {
   "cell_type": "code",
   "execution_count": 26,
   "id": "every-singapore",
   "metadata": {},
   "outputs": [],
   "source": [
    "import scipy.spatial\n",
    "from collections import Counter\n",
    "from operator import itemgetter\n",
    "\n",
    "\n",
    "class FKNN:\n",
    "    def __init__(self, k):\n",
    "        self.k = k\n",
    "\n",
    "    def fit(self, X, y):\n",
    "        self.X_train = X\n",
    "        self.y_train = y\n",
    "\n",
    "    def getDistance(self, X1, X2):\n",
    "        return scipy.spatial.distance.euclidean(X1, X2)\n",
    "\n",
    "    def fuzzy(self, d, m):\n",
    "        closestPoint = [d[k][1] for k in range(len(d))]\n",
    "        classes = np.unique(self.y_train[closestPoint])\n",
    "        arrMembership = []\n",
    "        for cls in classes:\n",
    "            atas = 0\n",
    "            bawah = 0\n",
    "            for close in d:\n",
    "                if (close[0] != 0):\n",
    "                    if (cls == self.y_train[close[1]]):\n",
    "                        atas += np.power((1 / close[0]), (2 / (m - 1)))\n",
    "                    else:\n",
    "                        atas += np.power((0 / close[0]), (2 / (m - 1)))\n",
    "                    bawah += np.power((1 / close[0]), (2 / (m - 1)))\n",
    "                else:\n",
    "                    atas += 0\n",
    "                    bawah += 1\n",
    "            arrMembership.append([atas / bawah, cls])\n",
    "        return arrMembership\n",
    "\n",
    "    def predict(self, X_test):\n",
    "        final_output = []\n",
    "        for i in range(len(X_test)):\n",
    "            d = []\n",
    "            votes = []\n",
    "            for j in range(len(self.X_train)):\n",
    "                dist = self.getDistance(self.X_train[j], X_test[i])\n",
    "                d.append([dist, j])\n",
    "            d.sort()\n",
    "            d = d[0:self.k]\n",
    "            membership = self.fuzzy(d, 2)\n",
    "            predicted_class = sorted(membership,\n",
    "                                     key=itemgetter(0),\n",
    "                                     reverse=True)\n",
    "            final_output.append(predicted_class[0][1])\n",
    "        return final_output\n",
    "\n",
    "    def score(self, X_test, y_test):\n",
    "        predictions = self.predict(X_test)\n",
    "        value = 0\n",
    "        for i in range(len(y_test)):\n",
    "            if (predictions[i] == y_test[i]):\n",
    "                value += 1\n",
    "        return value / len(y_test)"
   ]
  },
  {
   "cell_type": "code",
   "execution_count": 27,
   "id": "maritime-marketplace",
   "metadata": {},
   "outputs": [],
   "source": [
    "fknn = FKNN(9)"
   ]
  },
  {
   "cell_type": "code",
   "execution_count": 28,
   "id": "postal-standing",
   "metadata": {},
   "outputs": [],
   "source": [
    "fknn.fit(x_train, y_train)"
   ]
  },
  {
   "cell_type": "code",
   "execution_count": 29,
   "id": "indoor-absorption",
   "metadata": {},
   "outputs": [],
   "source": [
    "prediction = fknn.score(x_test, y_test)"
   ]
  },
  {
   "cell_type": "code",
   "execution_count": 34,
   "id": "billion-hudson",
   "metadata": {},
   "outputs": [
    {
     "name": "stdout",
     "output_type": "stream",
     "text": [
      "Accuracy score:  0.6425531914893617\n"
     ]
    }
   ],
   "source": [
    "print(\"Accuracy score: \", prediction)"
   ]
  },
  {
   "cell_type": "code",
   "execution_count": 35,
   "id": "successful-oxygen",
   "metadata": {},
   "outputs": [
    {
     "name": "stdout",
     "output_type": "stream",
     "text": [
      "              precision    recall  f1-score   support\n",
      "\n",
      "           0       0.60      0.80      0.68        35\n",
      "           1       0.81      0.83      0.82        65\n",
      "           2       0.48      0.59      0.53        51\n",
      "           3       0.66      0.46      0.55        84\n",
      "\n",
      "    accuracy                           0.64       235\n",
      "   macro avg       0.64      0.67      0.64       235\n",
      "weighted avg       0.65      0.64      0.64       235\n",
      "\n"
     ]
    }
   ],
   "source": [
    "print((classification_report(fknn.predict(x_test), y_test)))"
   ]
  },
  {
   "cell_type": "markdown",
   "id": "chubby-dependence",
   "metadata": {},
   "source": [
    "### Bayesian SVM"
   ]
  },
  {
   "cell_type": "code",
   "execution_count": 51,
   "id": "corresponding-illustration",
   "metadata": {},
   "outputs": [],
   "source": [
    "import sklearn.gaussian_process as gp\n",
    "\n",
    "from scipy.stats import norm\n",
    "from scipy.optimize import minimize\n",
    "import cv2    \n",
    "from sklearn.svm import SVC\n",
    "\n",
    "from numpy import mean\n",
    "from pandas import read_csv\n",
    "from sklearn.model_selection import cross_val_score, RepeatedStratifiedKFold\n",
    "from sklearn.svm import SVC\n",
    "from skopt import BayesSearchCV\n",
    "from skopt.space import Integer, Real, Categorical\n",
    "from skopt.utils import use_named_args\n",
    "from skopt import gp_minimize"
   ]
  },
  {
   "cell_type": "code",
   "execution_count": 58,
   "id": "binding-parcel",
   "metadata": {},
   "outputs": [],
   "source": [
    "search_space = list()\n",
    "search_space.append(Real(1e-2, 10.0, 'log-uniform', name='C'))\n",
    "search_space.append(Categorical(['linear', 'poly', 'rbf', 'sigmoid'], name='kernel'))\n",
    "search_space.append(Integer(1, 5, name='degree'))\n",
    "search_space.append(Real(1e-2, 10.0, 'log-uniform', name='gamma'))\n",
    " "
   ]
  },
  {
   "cell_type": "code",
   "execution_count": 59,
   "id": "biological-aviation",
   "metadata": {},
   "outputs": [],
   "source": [
    "@use_named_args(search_space)\n",
    "def evaluate_model(**params):\n",
    "    model = SVC()\n",
    "    model.set_params(**params)\n",
    "    cv = RepeatedStratifiedKFold(n_splits=10, n_repeats=3, random_state=1)\n",
    "    result = cross_val_score(model, X, y, cv=cv, n_jobs=-1, scoring='accuracy')\n",
    "    estimate = mean(result)\n",
    "    return 1.0 - estimate"
   ]
  },
  {
   "cell_type": "code",
   "execution_count": 60,
   "id": "taken-sleep",
   "metadata": {},
   "outputs": [],
   "source": [
    "X = x_train[:100]\n",
    "y = y_train[:100]"
   ]
  },
  {
   "cell_type": "code",
   "execution_count": 61,
   "id": "arabic-marijuana",
   "metadata": {},
   "outputs": [
    {
     "name": "stderr",
     "output_type": "stream",
     "text": [
      "/Library/Frameworks/Python.framework/Versions/3.6/lib/python3.6/site-packages/skopt/optimizer/optimizer.py:449: UserWarning: The objective has been evaluated at this point before.\n",
      "  warnings.warn(\"The objective has been evaluated \"\n",
      "/Library/Frameworks/Python.framework/Versions/3.6/lib/python3.6/site-packages/skopt/optimizer/optimizer.py:449: UserWarning: The objective has been evaluated at this point before.\n",
      "  warnings.warn(\"The objective has been evaluated \"\n",
      "/Library/Frameworks/Python.framework/Versions/3.6/lib/python3.6/site-packages/skopt/optimizer/optimizer.py:449: UserWarning: The objective has been evaluated at this point before.\n",
      "  warnings.warn(\"The objective has been evaluated \"\n",
      "/Library/Frameworks/Python.framework/Versions/3.6/lib/python3.6/site-packages/skopt/optimizer/optimizer.py:449: UserWarning: The objective has been evaluated at this point before.\n",
      "  warnings.warn(\"The objective has been evaluated \"\n",
      "/Library/Frameworks/Python.framework/Versions/3.6/lib/python3.6/site-packages/skopt/optimizer/optimizer.py:449: UserWarning: The objective has been evaluated at this point before.\n",
      "  warnings.warn(\"The objective has been evaluated \"\n",
      "/Library/Frameworks/Python.framework/Versions/3.6/lib/python3.6/site-packages/skopt/optimizer/optimizer.py:449: UserWarning: The objective has been evaluated at this point before.\n",
      "  warnings.warn(\"The objective has been evaluated \"\n",
      "/Library/Frameworks/Python.framework/Versions/3.6/lib/python3.6/site-packages/skopt/optimizer/optimizer.py:449: UserWarning: The objective has been evaluated at this point before.\n",
      "  warnings.warn(\"The objective has been evaluated \"\n",
      "/Library/Frameworks/Python.framework/Versions/3.6/lib/python3.6/site-packages/skopt/optimizer/optimizer.py:449: UserWarning: The objective has been evaluated at this point before.\n",
      "  warnings.warn(\"The objective has been evaluated \"\n",
      "/Library/Frameworks/Python.framework/Versions/3.6/lib/python3.6/site-packages/skopt/optimizer/optimizer.py:449: UserWarning: The objective has been evaluated at this point before.\n",
      "  warnings.warn(\"The objective has been evaluated \"\n",
      "/Library/Frameworks/Python.framework/Versions/3.6/lib/python3.6/site-packages/skopt/optimizer/optimizer.py:449: UserWarning: The objective has been evaluated at this point before.\n",
      "  warnings.warn(\"The objective has been evaluated \"\n",
      "/Library/Frameworks/Python.framework/Versions/3.6/lib/python3.6/site-packages/skopt/optimizer/optimizer.py:449: UserWarning: The objective has been evaluated at this point before.\n",
      "  warnings.warn(\"The objective has been evaluated \"\n",
      "/Library/Frameworks/Python.framework/Versions/3.6/lib/python3.6/site-packages/skopt/optimizer/optimizer.py:449: UserWarning: The objective has been evaluated at this point before.\n",
      "  warnings.warn(\"The objective has been evaluated \"\n",
      "/Library/Frameworks/Python.framework/Versions/3.6/lib/python3.6/site-packages/skopt/optimizer/optimizer.py:449: UserWarning: The objective has been evaluated at this point before.\n",
      "  warnings.warn(\"The objective has been evaluated \"\n",
      "/Library/Frameworks/Python.framework/Versions/3.6/lib/python3.6/site-packages/skopt/optimizer/optimizer.py:449: UserWarning: The objective has been evaluated at this point before.\n",
      "  warnings.warn(\"The objective has been evaluated \"\n",
      "/Library/Frameworks/Python.framework/Versions/3.6/lib/python3.6/site-packages/skopt/optimizer/optimizer.py:449: UserWarning: The objective has been evaluated at this point before.\n",
      "  warnings.warn(\"The objective has been evaluated \"\n",
      "/Library/Frameworks/Python.framework/Versions/3.6/lib/python3.6/site-packages/skopt/optimizer/optimizer.py:449: UserWarning: The objective has been evaluated at this point before.\n",
      "  warnings.warn(\"The objective has been evaluated \"\n",
      "/Library/Frameworks/Python.framework/Versions/3.6/lib/python3.6/site-packages/skopt/optimizer/optimizer.py:449: UserWarning: The objective has been evaluated at this point before.\n",
      "  warnings.warn(\"The objective has been evaluated \"\n"
     ]
    }
   ],
   "source": [
    "result = gp_minimize(evaluate_model, search_space)"
   ]
  },
  {
   "cell_type": "code",
   "execution_count": 62,
   "id": "british-least",
   "metadata": {},
   "outputs": [
    {
     "name": "stdout",
     "output_type": "stream",
     "text": [
      "Best Accuracy: 0.650\n",
      "Best Parameters: [0.23911397476654192, 'linear', 1, 0.018676379018010895]\n"
     ]
    }
   ],
   "source": [
    "print('Best Accuracy: %.3f' % (1.0 - result.fun))\n",
    "print('Best Parameters: %s' % (result.x))"
   ]
  },
  {
   "cell_type": "code",
   "execution_count": 64,
   "id": "sustained-canyon",
   "metadata": {},
   "outputs": [],
   "source": [
    "model = SVC(gamma=0.018676379018010895, C=0.23911397476654192, kernel='linear', degree=1, probability=True)"
   ]
  },
  {
   "cell_type": "code",
   "execution_count": 65,
   "id": "computational-affiliate",
   "metadata": {},
   "outputs": [
    {
     "data": {
      "text/plain": [
       "SVC(C=0.23911397476654192, degree=1, gamma=0.018676379018010895,\n",
       "    kernel='linear', probability=True)"
      ]
     },
     "execution_count": 65,
     "metadata": {},
     "output_type": "execute_result"
    }
   ],
   "source": [
    "model.fit(x_train, y_train)"
   ]
  },
  {
   "cell_type": "code",
   "execution_count": 66,
   "id": "remarkable-chinese",
   "metadata": {},
   "outputs": [],
   "source": [
    "prediction = model.score(x_test, y_test)"
   ]
  },
  {
   "cell_type": "code",
   "execution_count": 67,
   "id": "removable-application",
   "metadata": {},
   "outputs": [
    {
     "name": "stdout",
     "output_type": "stream",
     "text": [
      "Accuracy score:  0.6936170212765957\n"
     ]
    }
   ],
   "source": [
    "print(\"Accuracy score: \", prediction)"
   ]
  },
  {
   "cell_type": "code",
   "execution_count": 68,
   "id": "smoking-magazine",
   "metadata": {},
   "outputs": [
    {
     "name": "stdout",
     "output_type": "stream",
     "text": [
      "              precision    recall  f1-score   support\n",
      "\n",
      "           0       0.77      0.73      0.75        49\n",
      "           1       0.84      0.82      0.83        68\n",
      "           2       0.60      0.70      0.64        53\n",
      "           3       0.58      0.52      0.55        65\n",
      "\n",
      "    accuracy                           0.69       235\n",
      "   macro avg       0.69      0.69      0.69       235\n",
      "weighted avg       0.70      0.69      0.69       235\n",
      "\n"
     ]
    }
   ],
   "source": [
    "print((classification_report(model.predict(x_test), y_test)))"
   ]
  },
  {
   "cell_type": "code",
   "execution_count": null,
   "id": "sweet-stamp",
   "metadata": {},
   "outputs": [],
   "source": []
  }
 ],
 "metadata": {
  "kernelspec": {
   "display_name": "Python 3",
   "language": "python",
   "name": "python3"
  },
  "language_info": {
   "codemirror_mode": {
    "name": "ipython",
    "version": 3
   },
   "file_extension": ".py",
   "mimetype": "text/x-python",
   "name": "python",
   "nbconvert_exporter": "python",
   "pygments_lexer": "ipython3",
   "version": "3.8.8"
  },
  "nbTranslate": {
   "displayLangs": [
    "*"
   ],
   "hotkey": "alt-t",
   "langInMainMenu": true,
   "sourceLang": "en",
   "targetLang": "fr",
   "useGoogleTranslate": true
  },
  "toc": {
   "base_numbering": 1,
   "nav_menu": {},
   "number_sections": true,
   "sideBar": true,
   "skip_h1_title": false,
   "title_cell": "Table of Contents",
   "title_sidebar": "Contents",
   "toc_cell": false,
   "toc_position": {},
   "toc_section_display": true,
   "toc_window_display": false
  },
  "varInspector": {
   "cols": {
    "lenName": 16,
    "lenType": 16,
    "lenVar": 40
   },
   "kernels_config": {
    "python": {
     "delete_cmd_postfix": "",
     "delete_cmd_prefix": "del ",
     "library": "var_list.py",
     "varRefreshCmd": "print(var_dic_list())"
    },
    "r": {
     "delete_cmd_postfix": ") ",
     "delete_cmd_prefix": "rm(",
     "library": "var_list.r",
     "varRefreshCmd": "cat(var_dic_list()) "
    }
   },
   "types_to_exclude": [
    "module",
    "function",
    "builtin_function_or_method",
    "instance",
    "_Feature"
   ],
   "window_display": false
  }
 },
 "nbformat": 4,
 "nbformat_minor": 5
}
